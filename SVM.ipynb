{
 "cells": [
  {
   "cell_type": "code",
   "execution_count": 1,
   "metadata": {},
   "outputs": [],
   "source": [
    "import random\n",
    "import math\n",
    "import pandas as pd\n",
    "import matplotlib.pyplot as plt\n",
    "import numpy as np\n",
    "from matplotlib.animation import FuncAnimation, PillowWriter\n",
    "from sklearn.utils import shuffle\n",
    "from sklearn.model_selection import train_test_split, KFold, cross_val_score\n",
    "\n",
    "%matplotlib inline"
   ]
  },
  {
   "cell_type": "code",
   "execution_count": 2,
   "metadata": {},
   "outputs": [
    {
     "data": {
      "text/html": [
       "<div>\n",
       "<style scoped>\n",
       "    .dataframe tbody tr th:only-of-type {\n",
       "        vertical-align: middle;\n",
       "    }\n",
       "\n",
       "    .dataframe tbody tr th {\n",
       "        vertical-align: top;\n",
       "    }\n",
       "\n",
       "    .dataframe thead th {\n",
       "        text-align: right;\n",
       "    }\n",
       "</style>\n",
       "<table border=\"1\" class=\"dataframe\">\n",
       "  <thead>\n",
       "    <tr style=\"text-align: right;\">\n",
       "      <th></th>\n",
       "      <th>V1</th>\n",
       "      <th>V2</th>\n",
       "      <th>V3</th>\n",
       "      <th>V4</th>\n",
       "      <th>Target</th>\n",
       "    </tr>\n",
       "  </thead>\n",
       "  <tbody>\n",
       "    <tr>\n",
       "      <th>0</th>\n",
       "      <td>-0.203950</td>\n",
       "      <td>0.363011</td>\n",
       "      <td>1.013766</td>\n",
       "      <td>0.187131</td>\n",
       "      <td>1</td>\n",
       "    </tr>\n",
       "    <tr>\n",
       "      <th>1</th>\n",
       "      <td>-0.761118</td>\n",
       "      <td>2.436424</td>\n",
       "      <td>0.681846</td>\n",
       "      <td>0.654366</td>\n",
       "      <td>1</td>\n",
       "    </tr>\n",
       "    <tr>\n",
       "      <th>2</th>\n",
       "      <td>-0.209979</td>\n",
       "      <td>1.131098</td>\n",
       "      <td>-0.282180</td>\n",
       "      <td>-0.202210</td>\n",
       "      <td>1</td>\n",
       "    </tr>\n",
       "    <tr>\n",
       "      <th>3</th>\n",
       "      <td>0.836812</td>\n",
       "      <td>0.650342</td>\n",
       "      <td>-0.426900</td>\n",
       "      <td>-0.305281</td>\n",
       "      <td>1</td>\n",
       "    </tr>\n",
       "    <tr>\n",
       "      <th>4</th>\n",
       "      <td>0.454204</td>\n",
       "      <td>1.560128</td>\n",
       "      <td>-0.204841</td>\n",
       "      <td>0.219233</td>\n",
       "      <td>1</td>\n",
       "    </tr>\n",
       "    <tr>\n",
       "      <th>...</th>\n",
       "      <td>...</td>\n",
       "      <td>...</td>\n",
       "      <td>...</td>\n",
       "      <td>...</td>\n",
       "      <td>...</td>\n",
       "    </tr>\n",
       "    <tr>\n",
       "      <th>262139</th>\n",
       "      <td>-0.699533</td>\n",
       "      <td>-1.110000</td>\n",
       "      <td>-0.084369</td>\n",
       "      <td>-0.575921</td>\n",
       "      <td>1</td>\n",
       "    </tr>\n",
       "    <tr>\n",
       "      <th>262140</th>\n",
       "      <td>-1.972119</td>\n",
       "      <td>0.965250</td>\n",
       "      <td>-0.240917</td>\n",
       "      <td>0.463352</td>\n",
       "      <td>1</td>\n",
       "    </tr>\n",
       "    <tr>\n",
       "      <th>262141</th>\n",
       "      <td>-0.327949</td>\n",
       "      <td>-1.702591</td>\n",
       "      <td>-0.031113</td>\n",
       "      <td>-0.759623</td>\n",
       "      <td>1</td>\n",
       "    </tr>\n",
       "    <tr>\n",
       "      <th>262142</th>\n",
       "      <td>-2.080999</td>\n",
       "      <td>-0.185966</td>\n",
       "      <td>-0.518695</td>\n",
       "      <td>-0.829814</td>\n",
       "      <td>1</td>\n",
       "    </tr>\n",
       "    <tr>\n",
       "      <th>262143</th>\n",
       "      <td>-0.828776</td>\n",
       "      <td>-1.202266</td>\n",
       "      <td>0.592979</td>\n",
       "      <td>-0.469042</td>\n",
       "      <td>1</td>\n",
       "    </tr>\n",
       "  </tbody>\n",
       "</table>\n",
       "<p>262144 rows × 5 columns</p>\n",
       "</div>"
      ],
      "text/plain": [
       "              V1        V2        V3        V4  Target\n",
       "0      -0.203950  0.363011  1.013766  0.187131       1\n",
       "1      -0.761118  2.436424  0.681846  0.654366       1\n",
       "2      -0.209979  1.131098 -0.282180 -0.202210       1\n",
       "3       0.836812  0.650342 -0.426900 -0.305281       1\n",
       "4       0.454204  1.560128 -0.204841  0.219233       1\n",
       "...          ...       ...       ...       ...     ...\n",
       "262139 -0.699533 -1.110000 -0.084369 -0.575921       1\n",
       "262140 -1.972119  0.965250 -0.240917  0.463352       1\n",
       "262141 -0.327949 -1.702591 -0.031113 -0.759623       1\n",
       "262142 -2.080999 -0.185966 -0.518695 -0.829814       1\n",
       "262143 -0.828776 -1.202266  0.592979 -0.469042       1\n",
       "\n",
       "[262144 rows x 5 columns]"
      ]
     },
     "execution_count": 2,
     "metadata": {},
     "output_type": "execute_result"
    }
   ],
   "source": [
    "# Loading the data\n",
    "df = pd.read_csv('data/mulcross.csv')\n",
    "\n",
    "df['Target'] = df.Target.apply(lambda r: 1 if r==\"'Normal'\" else -1)\n",
    "df"
   ]
  },
  {
   "cell_type": "code",
   "execution_count": 3,
   "metadata": {},
   "outputs": [],
   "source": [
    "def split_set(data_to_split, ratio=0.8):\n",
    "    mask = np.random.rand(len(data_to_split)) < ratio\n",
    "    return [data_to_split[mask].reset_index(drop=True), data_to_split[~mask].reset_index(drop=True)]\n",
    "\n",
    "[train, test] = split_set(df.sample(frac=0.1, random_state=1))"
   ]
  },
  {
   "cell_type": "code",
   "execution_count": 7,
   "metadata": {},
   "outputs": [],
   "source": [
    "from sklearn.svm import OneClassSVM\n",
    "\n",
    "features = ['V1','V2','V3','V4']\n",
    "\n",
    "#clf = OneClassSVM(kernel='poly', degree=3, gamma='scale')\n",
    "clf = OneClassSVM(kernel='rbf', nu=0.25, gamma=0.001)\n",
    "\n",
    "clf.fit(train[features])\n",
    "\n",
    "train['Pred'] = clf.predict(train[features])\n",
    "test['Pred']  = clf.predict(test[features])"
   ]
  },
  {
   "cell_type": "code",
   "execution_count": 8,
   "metadata": {},
   "outputs": [],
   "source": [
    "# Errors\n",
    "#n_error_train = len(train.loc[(train['Target']==1) & (train['Target']!=train['Pred'])])\n",
    "error_train = len(train.loc[train['Target']!=train['Pred']])/len(train)\n",
    "error_regular_test  = len(test.loc[(test['Target']==1) & (test['Target']!=test['Pred'])])/len(test.loc[(test['Target']==1)])\n",
    "error_outliers_test = len(test.loc[(test['Target']==-1) & (test['Target']!=test['Pred'])])/len(test.loc[(test['Target']==-1)])"
   ]
  },
  {
   "cell_type": "code",
   "execution_count": 9,
   "metadata": {},
   "outputs": [
    {
     "name": "stdout",
     "output_type": "stream",
     "text": [
      "ETr 15.04 % ERTe 17.61 % EOTe 0.00 %\n"
     ]
    }
   ],
   "source": [
    "print('ETr %.2f %% ERTe %.2f %% EOTe %.2f %%' % \n",
    "      (100*error_train, 100*error_regular_test, 100*error_outliers_test))"
   ]
  },
  {
   "cell_type": "code",
   "execution_count": 13,
   "metadata": {},
   "outputs": [],
   "source": [
    "# N-Folds Cross Validation\n",
    "def N_folds_CV(X, y, n, model):\n",
    "    \n",
    "    \"\"\"\n",
    "    Performs N-folds cross-validation on the data (predictors X, observed output y) with a given model.\n",
    "    \n",
    "    :param X: Predictors\n",
    "    :param y: Observed output\n",
    "    :param n: number of folds \n",
    "    :param model: model to fit\n",
    "    \n",
    "    :return: array of N R-squared scores\n",
    "    \"\"\"\n",
    "    \n",
    "    cv = KFold(n_splits=n)\n",
    "    cv_clf = model\n",
    "    cv_score = []\n",
    "            \n",
    "    for train, test in cv.split(X, y):\n",
    "        cv_reg = cv_clf.fit(X.iloc[train])\n",
    "        y_diff = cv_reg.predict(X.iloc[train]) - y.iloc[train]\n",
    "        cv_score.append(y_diff[y_diff != 0].size)\n",
    "                \n",
    "    return np.asarray(cv_score)"
   ]
  },
  {
   "cell_type": "code",
   "execution_count": 53,
   "metadata": {},
   "outputs": [],
   "source": [
    "import itertools\n",
    "from joblib import Parallel, delayed\n",
    "import multiprocessing\n",
    "    \n",
    "df_s = df.sample(frac=0.01, random_state=1) # too long calculation\n",
    "\n",
    "# Tuning hyper-parameters using N_folds Cross Validation\n",
    "X_train, X_test, y_train, y_test = train_test_split(df_s[features], df_s['Target'], test_size=0.33, random_state=42)    \n",
    "    \n",
    "gamma = [0.1, 0.01, 0.001, 0.0001]\n",
    "nu    = [0.25, 0.5, 0.75, 0.95]\n",
    "\n",
    "inputs = list(itertools.product(gamma, nu))\n",
    "\n",
    "def processInput(gamma,nu):\n",
    "    return N_folds_CV(X_train, y_train, 10, OneClassSVM(kernel='rbf', gamma=gamma, nu=nu)).mean()\n",
    " \n",
    "num_cores = multiprocessing.cpu_count()-2\n",
    "     \n",
    "results = Parallel(n_jobs=num_cores)(delayed(processInput)(gamma,nu) for gamma,nu in inputs)"
   ]
  },
  {
   "cell_type": "code",
   "execution_count": 54,
   "metadata": {},
   "outputs": [
    {
     "data": {
      "text/html": [
       "<div>\n",
       "<style scoped>\n",
       "    .dataframe tbody tr th:only-of-type {\n",
       "        vertical-align: middle;\n",
       "    }\n",
       "\n",
       "    .dataframe tbody tr th {\n",
       "        vertical-align: top;\n",
       "    }\n",
       "\n",
       "    .dataframe thead th {\n",
       "        text-align: right;\n",
       "    }\n",
       "</style>\n",
       "<table border=\"1\" class=\"dataframe\">\n",
       "  <thead>\n",
       "    <tr style=\"text-align: right;\">\n",
       "      <th></th>\n",
       "      <th>gamma</th>\n",
       "      <th>nu</th>\n",
       "      <th>miss</th>\n",
       "    </tr>\n",
       "  </thead>\n",
       "  <tbody>\n",
       "    <tr>\n",
       "      <th>0</th>\n",
       "      <td>0.1000</td>\n",
       "      <td>0.25</td>\n",
       "      <td>246.5</td>\n",
       "    </tr>\n",
       "    <tr>\n",
       "      <th>1</th>\n",
       "      <td>0.1000</td>\n",
       "      <td>0.50</td>\n",
       "      <td>641.5</td>\n",
       "    </tr>\n",
       "    <tr>\n",
       "      <th>2</th>\n",
       "      <td>0.1000</td>\n",
       "      <td>0.75</td>\n",
       "      <td>1036.7</td>\n",
       "    </tr>\n",
       "    <tr>\n",
       "      <th>3</th>\n",
       "      <td>0.1000</td>\n",
       "      <td>0.95</td>\n",
       "      <td>1353.0</td>\n",
       "    </tr>\n",
       "    <tr>\n",
       "      <th>4</th>\n",
       "      <td>0.0100</td>\n",
       "      <td>0.25</td>\n",
       "      <td>246.3</td>\n",
       "    </tr>\n",
       "    <tr>\n",
       "      <th>5</th>\n",
       "      <td>0.0100</td>\n",
       "      <td>0.50</td>\n",
       "      <td>641.9</td>\n",
       "    </tr>\n",
       "    <tr>\n",
       "      <th>6</th>\n",
       "      <td>0.0100</td>\n",
       "      <td>0.75</td>\n",
       "      <td>1036.9</td>\n",
       "    </tr>\n",
       "    <tr>\n",
       "      <th>7</th>\n",
       "      <td>0.0100</td>\n",
       "      <td>0.95</td>\n",
       "      <td>1353.2</td>\n",
       "    </tr>\n",
       "    <tr>\n",
       "      <th>8</th>\n",
       "      <td>0.0010</td>\n",
       "      <td>0.25</td>\n",
       "      <td>246.7</td>\n",
       "    </tr>\n",
       "    <tr>\n",
       "      <th>9</th>\n",
       "      <td>0.0010</td>\n",
       "      <td>0.50</td>\n",
       "      <td>641.8</td>\n",
       "    </tr>\n",
       "    <tr>\n",
       "      <th>10</th>\n",
       "      <td>0.0010</td>\n",
       "      <td>0.75</td>\n",
       "      <td>1036.4</td>\n",
       "    </tr>\n",
       "    <tr>\n",
       "      <th>11</th>\n",
       "      <td>0.0010</td>\n",
       "      <td>0.95</td>\n",
       "      <td>1353.0</td>\n",
       "    </tr>\n",
       "    <tr>\n",
       "      <th>12</th>\n",
       "      <td>0.0001</td>\n",
       "      <td>0.25</td>\n",
       "      <td>246.1</td>\n",
       "    </tr>\n",
       "    <tr>\n",
       "      <th>13</th>\n",
       "      <td>0.0001</td>\n",
       "      <td>0.50</td>\n",
       "      <td>641.5</td>\n",
       "    </tr>\n",
       "    <tr>\n",
       "      <th>14</th>\n",
       "      <td>0.0001</td>\n",
       "      <td>0.75</td>\n",
       "      <td>1036.5</td>\n",
       "    </tr>\n",
       "    <tr>\n",
       "      <th>15</th>\n",
       "      <td>0.0001</td>\n",
       "      <td>0.95</td>\n",
       "      <td>1352.9</td>\n",
       "    </tr>\n",
       "  </tbody>\n",
       "</table>\n",
       "</div>"
      ],
      "text/plain": [
       "     gamma    nu    miss\n",
       "0   0.1000  0.25   246.5\n",
       "1   0.1000  0.50   641.5\n",
       "2   0.1000  0.75  1036.7\n",
       "3   0.1000  0.95  1353.0\n",
       "4   0.0100  0.25   246.3\n",
       "5   0.0100  0.50   641.9\n",
       "6   0.0100  0.75  1036.9\n",
       "7   0.0100  0.95  1353.2\n",
       "8   0.0010  0.25   246.7\n",
       "9   0.0010  0.50   641.8\n",
       "10  0.0010  0.75  1036.4\n",
       "11  0.0010  0.95  1353.0\n",
       "12  0.0001  0.25   246.1\n",
       "13  0.0001  0.50   641.5\n",
       "14  0.0001  0.75  1036.5\n",
       "15  0.0001  0.95  1352.9"
      ]
     },
     "execution_count": 54,
     "metadata": {},
     "output_type": "execute_result"
    }
   ],
   "source": [
    "# Saving the results\n",
    "p_tab = pd.DataFrame(columns=['gamma','nu','miss'])\n",
    "\n",
    "for i in range(0,len(results)):\n",
    "    p_tab.loc[len(p_tab)] = [inputs[i][0], inputs[i][1], results[i]]\n",
    "    \n",
    "p_tab"
   ]
  },
  {
   "cell_type": "code",
   "execution_count": 55,
   "metadata": {},
   "outputs": [
    {
     "name": "stdout",
     "output_type": "stream",
     "text": [
      "gamma      0.0001\n",
      "nu         0.2500\n",
      "miss     246.1000\n",
      "Name: 12, dtype: float64\n"
     ]
    }
   ],
   "source": [
    "best_cv = p_tab.loc[p_tab['miss'].idxmin()]\n",
    "print(best_cv)"
   ]
  },
  {
   "cell_type": "code",
   "execution_count": 56,
   "metadata": {},
   "outputs": [],
   "source": [
    "clf = OneClassSVM(kernel='rbf', gamma=best_cv[0], nu=best_cv[1])\n",
    "clf.fit(X_train)\n",
    "\n",
    "y_pred = clf.predict(X_test)\n",
    "\n",
    "error = (y_test - y_pred)\n",
    "error = 100 * (error[error != 0].size / len(error))"
   ]
  },
  {
   "cell_type": "code",
   "execution_count": 57,
   "metadata": {},
   "outputs": [
    {
     "name": "stdout",
     "output_type": "stream",
     "text": [
      "Miss_classification error = 15.49 %\n"
     ]
    }
   ],
   "source": [
    "print('Miss_classification error = %.2f %%' % error)"
   ]
  },
  {
   "cell_type": "code",
   "execution_count": 58,
   "metadata": {},
   "outputs": [],
   "source": [
    "# Testing on all the data\n",
    "X_train, X_test, y_train, y_test = train_test_split(df[features], df['Target'], test_size=0.33, random_state=42)   \n",
    "\n",
    "clf = OneClassSVM(kernel='rbf', gamma=best_cv[0], nu=best_cv[1])\n",
    "clf.fit(X_train)\n",
    "\n",
    "y_pred = clf.predict(X_test)\n",
    "\n",
    "error = (y_test - y_pred)\n",
    "error = 100 * (error[error != 0].size / len(error))"
   ]
  },
  {
   "cell_type": "code",
   "execution_count": 59,
   "metadata": {},
   "outputs": [
    {
     "name": "stdout",
     "output_type": "stream",
     "text": [
      "Miss_classification error = 14.89 %\n"
     ]
    }
   ],
   "source": [
    "print('Miss_classification error = %.2f %%' % error)"
   ]
  },
  {
   "cell_type": "code",
   "execution_count": 89,
   "metadata": {},
   "outputs": [
    {
     "name": "stdout",
     "output_type": "stream",
     "text": [
      "Accepted Outliers = 0.00 %\n"
     ]
    }
   ],
   "source": [
    "accepted_outliers = y_test - y_pred\n",
    "accepted_outliers = 100 * (accepted_outliers[accepted_outliers == -2].size) / len(accepted_outliers)\n",
    "\n",
    "print('Accepted Outliers = %.2f %%' % accepted_outliers)"
   ]
  },
  {
   "cell_type": "code",
   "execution_count": null,
   "metadata": {},
   "outputs": [],
   "source": []
  }
 ],
 "metadata": {
  "kernelspec": {
   "display_name": "Python 3",
   "language": "python",
   "name": "python3"
  },
  "language_info": {
   "codemirror_mode": {
    "name": "ipython",
    "version": 3
   },
   "file_extension": ".py",
   "mimetype": "text/x-python",
   "name": "python",
   "nbconvert_exporter": "python",
   "pygments_lexer": "ipython3",
   "version": "3.8.5"
  }
 },
 "nbformat": 4,
 "nbformat_minor": 4
}
